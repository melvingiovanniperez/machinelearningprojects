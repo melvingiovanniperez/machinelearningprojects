{
  "nbformat": 4,
  "nbformat_minor": 0,
  "metadata": {
    "kernelspec": {
      "display_name": "Python 3",
      "language": "python",
      "name": "python3"
    },
    "colab": {
      "name": "ML_Assignment2.ipynb",
      "provenance": []
    }
  },
  "cells": [
    {
      "cell_type": "code",
      "metadata": {
        "id": "RVoFFFc1VmQd",
        "colab_type": "code",
        "colab": {}
      },
      "source": [
        "import urllib.request\n",
        "import os\n",
        "import numpy as np\n",
        "from sklearn.feature_extraction.text import CountVectorizer\n",
        "import sys"
      ],
      "execution_count": 0,
      "outputs": []
    },
    {
      "cell_type": "code",
      "metadata": {
        "id": "09_gyPnnV_QU",
        "colab_type": "code",
        "outputId": "097543f4-a482-419e-bf59-26a4571f9b1d",
        "colab": {
          "base_uri": "https://localhost:8080/",
          "height": 34
        }
      },
      "source": [
        "data_url = \"\"\"http://www.cs.cornell.edu/people/pabo/movie-review-data/review_polarity.tar.gz\"\"\"\n",
        "fn = data_url.split(\"/\")[-1]\n",
        "\n",
        "import urllib.request\n",
        "urllib.request.urlretrieve(data_url, fn)\n",
        "!tar zxf review_polarity.tar.gz\n",
        "!ls"
      ],
      "execution_count": 2,
      "outputs": [
        {
          "output_type": "stream",
          "text": [
            "poldata.README.2.0  review_polarity.tar.gz  sample_data  txt_sentoken\n"
          ],
          "name": "stdout"
        }
      ]
    },
    {
      "cell_type": "code",
      "metadata": {
        "id": "6zIAZ-xFWDud",
        "colab_type": "code",
        "outputId": "6eba6925-f3ea-49ce-d7fd-0dec9b5a0e80",
        "colab": {
          "base_uri": "https://localhost:8080/",
          "height": 269
        }
      },
      "source": [
        "!head -n15 poldata.README.2.0"
      ],
      "execution_count": 3,
      "outputs": [
        {
          "output_type": "stream",
          "text": [
            "\r\n",
            "=======\r\n",
            "\r\n",
            "Introduction\r\n",
            "\r\n",
            "This README v2.0 (June, 2004) for the v2.0 polarity dataset comes from\r\n",
            "the URL http://www.cs.cornell.edu/people/pabo/movie-review-data .\r\n",
            "\r\n",
            "=======\r\n",
            "\r\n",
            "What's New -- June, 2004\r\n",
            "\r\n",
            "This dataset represents an enhancement of the review corpus v1.0\r\n",
            "described in README v1.1: it contains more reviews, and labels were\r\n",
            "created with an improved rating-extraction system.\r\n"
          ],
          "name": "stdout"
        }
      ]
    },
    {
      "cell_type": "code",
      "metadata": {
        "id": "I0-vTJuaWG5M",
        "colab_type": "code",
        "outputId": "24958a1f-9433-4176-d39f-aa4c20fbfe1b",
        "colab": {
          "base_uri": "https://localhost:8080/",
          "height": 34
        }
      },
      "source": [
        "import os\n",
        "filenames = list()\n",
        "for root, dirs, files in os.walk(\"./txt_sentoken\"):\n",
        "   for name in files:\n",
        "      filenames.append(os.path.join(root, name))\n",
        "print(\"Found %i files\" % len(filenames))"
      ],
      "execution_count": 4,
      "outputs": [
        {
          "output_type": "stream",
          "text": [
            "Found 2000 files\n"
          ],
          "name": "stdout"
        }
      ]
    },
    {
      "cell_type": "code",
      "metadata": {
        "id": "Xo8pRpgrVmQl",
        "colab_type": "code",
        "outputId": "0d02a662-4161-491e-f76e-b6952a09ed45",
        "colab": {
          "base_uri": "https://localhost:8080/",
          "height": 185
        }
      },
      "source": [
        "X_txt = list()\n",
        "y = list()\n",
        "import random\n",
        "#random.shuffle(filenames)\n",
        "for i, fn in enumerate(filenames):\n",
        "  if fn.find(\"\\\\pos\\\\\") > 0:\n",
        "    msg = \"positive\"\n",
        "    y.append(1)\n",
        "  else:\n",
        "    msg = \"negative\"\n",
        "    y.append(-1)\n",
        "  with open(fn) as f:\n",
        "    X_txt.append(f.read())\n",
        "  if i < 10:\n",
        "    print(fn, msg, \"example\")\n",
        "\n",
        "y = np.asarray(y)\n",
        "assert len(X_txt) == y.shape[0]\n",
        "\n",
        "vectorizer = CountVectorizer()\n",
        "vectorizer.fit(X_txt)\n",
        "X = vectorizer.transform(X_txt)\n",
        "X[X>1] = 1\n",
        "words = vectorizer.get_feature_names()\n",
        "newset=set()\n",
        "\n",
        "for i,d in enumerate(X_txt):\n",
        "  line=X_txt[i]\n",
        "  A=set(line.split())\n",
        "  newset=set(newset.union(A))\n",
        "\n",
        "newlist=list(newset)\n",
        "len(newlist)\n",
        "diff=[]\n",
        "for word in newlist:\n",
        "  if word not in words:\n",
        "    diff.append(word)\n",
        "len(diff)\n",
        "\n",
        "lut = dict()\n",
        "for i, word in enumerate(newlist):\n",
        "  lut[word] = i\n",
        "\n",
        "X = np.zeros((len(X_txt), len(newlist)))\n",
        "for i, doc in enumerate(X_txt):\n",
        "  for word in doc.split():\n",
        "    X[i, lut[word]] = 1"
      ],
      "execution_count": 5,
      "outputs": [
        {
          "output_type": "stream",
          "text": [
            "./txt_sentoken/neg/cv008_29326.txt negative example\n",
            "./txt_sentoken/neg/cv593_11931.txt negative example\n",
            "./txt_sentoken/neg/cv961_5578.txt negative example\n",
            "./txt_sentoken/neg/cv059_28723.txt negative example\n",
            "./txt_sentoken/neg/cv684_12727.txt negative example\n",
            "./txt_sentoken/neg/cv448_16409.txt negative example\n",
            "./txt_sentoken/neg/cv656_25395.txt negative example\n",
            "./txt_sentoken/neg/cv918_27080.txt negative example\n",
            "./txt_sentoken/neg/cv395_11761.txt negative example\n",
            "./txt_sentoken/neg/cv081_18241.txt negative example\n"
          ],
          "name": "stdout"
        }
      ]
    },
    {
      "cell_type": "code",
      "metadata": {
        "id": "_qDG7Jh6VmQp",
        "colab_type": "code",
        "colab": {}
      },
      "source": [
        "import sys\n",
        "def sigmoid(x):\n",
        "    return 1.0/(1+np.exp(-x))\n",
        "\n",
        "# log loss function\n",
        "#input y_true 0-1，prob - positive probability\n",
        "def loss_log(ytrue,prob):\n",
        "    ytrue = ytrue.flatten()\n",
        "    prob = prob.flatten()\n",
        "    res = ytrue*np.log(prob)+(1-ytrue)*np.log(1-prob)\n",
        "    res[np.isnan(res)]=0\n",
        "    return np.sum(-res)\n",
        "\n",
        "# log loss function\n",
        "#input y_true 0-1，prob - positive probability\n",
        "def loss_hinge(ytrue,prob):\n",
        "    ytrue = ytrue.flatten()\n",
        "    prob = prob.flatten()\n",
        "    ypred = prob>0.5\n",
        "    ytrue = ytrue*2-1\n",
        "    ypred = ypred*2-1\n",
        "    ytrue = ytrue.flatten()\n",
        "    ypred = ypred.flatten()\n",
        "    loss = np.sum(1-ytrue*ypred)\n",
        "    return loss\n",
        "\n",
        "# train the Logitic  regression model using SGD\n",
        "#input siga -w parameter,lr-learning rate, alpha - L2 normalization coefficent,train_x,train_label, num - batch size of BGD,numm = 1, SGD\n",
        "def train_logistic_sgd(sita,lr,alpha,train_x,train_label,num = 1):\n",
        "    iter = 5     # To save time, ITER is set to 5. For better training, its value can be set to 10000\n",
        "    losslog = []\n",
        "    losshinge = []\n",
        "    for i in range(iter):\n",
        "        nums = train_x.shape[0]\n",
        "\n",
        "        rnd = np.arange(nums)\n",
        "        np.random.shuffle(rnd)     \n",
        "        tmp = np.arange(num)   \n",
        "        \n",
        "        while tmp[-1] < nums:\n",
        "               grad = 0\n",
        "               data = train_x[rnd[tmp],:]\n",
        "               label = train_label[rnd[tmp]]\n",
        "               for j in range(num):\n",
        "                   x = data[j,:] \n",
        "                   x = np.reshape(x,(1,-1))   \n",
        "                   y = label[j]\n",
        "                   grad  = grad + sigmoid(np.dot(x,sita))*x.T-y*x.T\n",
        "               grad = grad/data.shape[0]\n",
        "               sita = sita - lr*grad-2*alpha*sita\n",
        "               tmp += num\n",
        "               prob = sigmoid(np.dot(train_x,sita))\n",
        "        \n",
        "               losslog.append(loss_log(train_y,prob))\n",
        "               losshinge.append(loss_hinge(train_y,prob))\n",
        "    return sita,np.array(losslog),np.array(losshinge)\n",
        "\n",
        "\n",
        "# predict function\n",
        "def predict_logistic(sita,test_x,test_label):\n",
        "    \n",
        "    p = np.exp(np.dot(test_x,sita))/(1+np.exp(np.dot(test_x,sita)))\n",
        "    p[p>0.5] =1.0\n",
        "    p[p<=0.5]=0.0\n",
        "    p = p.flatten()\n",
        "    test_label = test_label.flatten()\n",
        "    test_label = test_label.flatten()\n",
        "    res = np.sum(np.abs(p-test_label))\n",
        "    acc = 1-np.sum(res)/test_label.size\n",
        "    return acc,p  "
      ],
      "execution_count": 0,
      "outputs": []
    },
    {
      "cell_type": "code",
      "metadata": {
        "id": "W4ibjuPeVmQt",
        "colab_type": "code",
        "colab": {}
      },
      "source": [
        "# prepare train and test dataset\n",
        "all_num =X.shape[0]\n",
        "loc = np.arange(all_num)\n",
        "np.random.shuffle(loc)\n",
        "train_num = 1400\n",
        "train_x = X[loc[:train_num],:]\n",
        "train_y = y[loc[:train_num]]\n",
        "\n",
        "test_x =  X[loc[train_num:],:]\n",
        "test_y = y[loc[train_num:]]\n",
        "\n",
        "train_y = (train_y+1)/2\n",
        "test_y = (test_y+1)/2"
      ],
      "execution_count": 0,
      "outputs": []
    },
    {
      "cell_type": "code",
      "metadata": {
        "id": "fqC0l2A4VmQx",
        "colab_type": "code",
        "outputId": "e9cd2929-5ff1-4f6d-a5eb-ebf4bbc8f781",
        "colab": {
          "base_uri": "https://localhost:8080/",
          "height": 84
        }
      },
      "source": [
        "\n",
        "sita = np.random.random((X.shape[1],1))\n",
        "alpha = 1e-4\n",
        "lr = 0.0015\n",
        "sita,losslog,losshinge = train_logistic_sgd(sita,lr,alpha,train_x,train_y)\n",
        "acc,pred_y = predict_logistic(sita,test_x,test_y)\n",
        "\n",
        "print('Accuracy: %f' % acc)\n",
        "print(train_num)\n"
      ],
      "execution_count": 8,
      "outputs": [
        {
          "output_type": "stream",
          "text": [
            "/usr/local/lib/python3.6/dist-packages/ipykernel_launcher.py:10: RuntimeWarning: divide by zero encountered in log\n",
            "  # Remove the CWD from sys.path while we load stuff.\n"
          ],
          "name": "stderr"
        },
        {
          "output_type": "stream",
          "text": [
            "Accuracy: 0.995000\n",
            "1400\n"
          ],
          "name": "stdout"
        }
      ]
    },
    {
      "cell_type": "code",
      "metadata": {
        "id": "ssO7vamlVmQ2",
        "colab_type": "code",
        "outputId": "33c8e80f-857a-45d2-e147-f270f562a7fb",
        "colab": {
          "base_uri": "https://localhost:8080/",
          "height": 279
        }
      },
      "source": [
        "from matplotlib import pyplot as plt\n",
        "%matplotlib inline\n",
        "plt.figure()\n",
        "plt.plot(losslog)\n",
        "plt.xlabel('Iteration')\n",
        "plt.ylabel('log loss')\n",
        "plt.show()"
      ],
      "execution_count": 9,
      "outputs": [
        {
          "output_type": "display_data",
          "data": {
            "image/png": "[encoded data removed]",
            "text/plain": [
              "<Figure size 432x288 with 1 Axes>"
            ]
          },
          "metadata": {
            "tags": []
          }
        }
      ]
    },
    {
      "cell_type": "code",
      "metadata": {
        "id": "5Qb1LRkLVmQ6",
        "colab_type": "code",
        "outputId": "73b21bcc-f172-47a6-ca96-cdaa50ecd8ba",
        "colab": {
          "base_uri": "https://localhost:8080/",
          "height": 279
        }
      },
      "source": [
        "plt.figure()\n",
        "plt.plot(losshinge)\n",
        "plt.xlabel('Iteration')\n",
        "plt.ylabel('log loss')\n",
        "plt.show()"
      ],
      "execution_count": 10,
      "outputs": [
        {
          "output_type": "display_data",
          "data": {
            "image/png": "[encoded data removed]",
            "text/plain": [
              "<Figure size 432x288 with 1 Axes>"
            ]
          },
          "metadata": {
            "tags": []
          }
        }
      ]
    }
  ]
}
